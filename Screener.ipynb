{
  "nbformat": 4,
  "nbformat_minor": 0,
  "metadata": {
    "colab": {
      "provenance": [],
      "toc_visible": true,
      "authorship_tag": "ABX9TyPECV0C/HhxGxfpEEKJL8w3",
      "include_colab_link": true
    },
    "kernelspec": {
      "name": "python3",
      "display_name": "Python 3"
    },
    "language_info": {
      "name": "python"
    }
  },
  "cells": [
    {
      "cell_type": "markdown",
      "metadata": {
        "id": "view-in-github",
        "colab_type": "text"
      },
      "source": [
        "<a href=\"https://colab.research.google.com/github/JerryChenz/Invest_Proc_v0/blob/working_version/Screener.ipynb\" target=\"_parent\"><img src=\"https://colab.research.google.com/assets/colab-badge.svg\" alt=\"Open In Colab\"/></a>"
      ]
    },
    {
      "cell_type": "code",
      "source": [
        "import pandas as pd\n",
        "import requests\n",
        "\n",
        "# Download the Excel file from HKEX\n",
        "url = \"https://www.hkex.com.hk/eng/services/trading/securities/securitieslists/ListOfSecurities.xlsx\"\n",
        "response = requests.get(url)\n",
        "with open(\"ListOfSecurities.xlsx\", \"wb\") as f:\n",
        "    f.write(response.content)\n",
        "\n",
        "# Read the Excel file into a DataFrame\n",
        "df = pd.read_excel(\"ListOfSecurities.xlsx\", header=0)\n",
        "\n",
        "# Extract the \"Stock Code\" column and format tickers\n",
        "stock_codes = df[\"Stock Code\"]\n",
        "tickers = stock_codes.apply(lambda x: f\"{x:04d}.HK\" if x < 10000 else f\"{x}.HK\")\n",
        "\n",
        "# Create a new DataFrame with the formatted tickers\n",
        "tickers_df = pd.DataFrame(tickers, columns=[\"Ticker\"])\n",
        "\n",
        "# Save to CSV file without index\n",
        "tickers_df.to_csv(\"hk_tickers.csv\", index=False)"
      ],
      "metadata": {
        "id": "9p_rDCW-RpqW"
      },
      "execution_count": 1,
      "outputs": []
    }
  ]
}